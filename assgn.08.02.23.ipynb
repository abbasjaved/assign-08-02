{
 "cells": [
  {
   "cell_type": "code",
   "execution_count": null,
   "id": "a91cf7d8-e95d-4f63-bdbb-4bce71a702af",
   "metadata": {},
   "outputs": [],
   "source": [
    "#Solution 1"
   ]
  },
  {
   "cell_type": "code",
   "execution_count": 5,
   "id": "340408c0-d540-4975-a9ce-ec4ef7ec3d14",
   "metadata": {},
   "outputs": [
    {
     "data": {
      "text/plain": [
       "'Abstraction in python is defined as a process of handling complexity by hiding unnecessary information from the user. This is one of the core concepts of object-oriented programming (OOP) languages.'"
      ]
     },
     "execution_count": 5,
     "metadata": {},
     "output_type": "execute_result"
    }
   ],
   "source": [
    "'''Abstraction in python is defined as a process of handling complexity by hiding unnecessary information from the user. This is one of the core concepts of object-oriented programming (OOP) languages.'''"
   ]
  },
  {
   "cell_type": "code",
   "execution_count": 6,
   "id": "6dae947f-c14a-4688-be1d-2ac53235cb98",
   "metadata": {},
   "outputs": [],
   "source": [
    "#Solution 2"
   ]
  },
  {
   "cell_type": "code",
   "execution_count": 1,
   "id": "bdd06562-2f9b-4a44-9665-338a5a02f95f",
   "metadata": {},
   "outputs": [
    {
     "data": {
      "text/plain": [
       "'Encapsulation hides data or variables of one class from other classes. They can only be accessed through member functions of their own declared class. In abstraction, the data members are private to the class.'"
      ]
     },
     "execution_count": 1,
     "metadata": {},
     "output_type": "execute_result"
    }
   ],
   "source": [
    "'''Encapsulation hides data or variables of one class from other classes. They can only be accessed through member functions of their own declared class. In abstraction, the data members are private to the class.'''"
   ]
  },
  {
   "cell_type": "code",
   "execution_count": 2,
   "id": "0113469b-46aa-41ee-9fc1-96929f38c211",
   "metadata": {},
   "outputs": [],
   "source": [
    "class college:\n",
    "    def __init__(self, num_students, batch, year, department):\n",
    "        self.__num_students = num_students\n",
    "        self.__batch = batch\n",
    "        self.__year = year\n",
    "        self.__department = department\n",
    "        \n",
    "    def set_student(self, student):\n",
    "        self.__student = self.__num_students + student\n",
    "        \n",
    "    def get_student(self):\n",
    "        return self.__student\n",
    "    "
   ]
  },
  {
   "cell_type": "code",
   "execution_count": 3,
   "id": "90ef55c9-81f2-4afb-9daf-5e25f64ebd73",
   "metadata": {},
   "outputs": [],
   "source": [
    "x = college(23, \"2022-24\", \"1st\", \"NDT\")"
   ]
  },
  {
   "cell_type": "code",
   "execution_count": 4,
   "id": "e949d70d-fb0b-43f1-b481-9cd8208ab445",
   "metadata": {},
   "outputs": [
    {
     "data": {
      "text/plain": [
       "'1st'"
      ]
     },
     "execution_count": 4,
     "metadata": {},
     "output_type": "execute_result"
    }
   ],
   "source": [
    "x._college__year"
   ]
  },
  {
   "cell_type": "code",
   "execution_count": 5,
   "id": "068b04a4-841f-4626-935a-f57c2dd645c3",
   "metadata": {},
   "outputs": [
    {
     "data": {
      "text/plain": [
       "23"
      ]
     },
     "execution_count": 5,
     "metadata": {},
     "output_type": "execute_result"
    }
   ],
   "source": [
    "x._college__num_students"
   ]
  },
  {
   "cell_type": "code",
   "execution_count": 6,
   "id": "1e8ffec3-36c8-4b1e-94c7-0a2dd6881a8b",
   "metadata": {},
   "outputs": [],
   "source": [
    "x.set_student(2)"
   ]
  },
  {
   "cell_type": "code",
   "execution_count": 7,
   "id": "c7b4a0ac-a8e6-4c40-8be2-b05d429d260d",
   "metadata": {},
   "outputs": [
    {
     "data": {
      "text/plain": [
       "25"
      ]
     },
     "execution_count": 7,
     "metadata": {},
     "output_type": "execute_result"
    }
   ],
   "source": [
    "x.get_student()"
   ]
  },
  {
   "cell_type": "code",
   "execution_count": 8,
   "id": "d98695ef-256c-43ad-85fb-7abf6ba4a84e",
   "metadata": {},
   "outputs": [],
   "source": [
    "#Solution 3"
   ]
  },
  {
   "cell_type": "code",
   "execution_count": 9,
   "id": "137d79dd-6570-4c3d-8e8b-601a4602cc02",
   "metadata": {},
   "outputs": [
    {
     "data": {
      "text/plain": [
       "\"The 'abc' module in the Python library provides the infrastructure for defining custom abstract base classes. Abstract class cannot be instantiated in python. An Abstract method can be call by its subclasses.\""
      ]
     },
     "execution_count": 9,
     "metadata": {},
     "output_type": "execute_result"
    }
   ],
   "source": [
    "'''The 'abc' module in the Python library provides the infrastructure for defining custom abstract base classes. Abstract class cannot be instantiated in python. An Abstract method can be call by its subclasses.'''"
   ]
  },
  {
   "cell_type": "code",
   "execution_count": 10,
   "id": "759cada8-ceee-4025-b9be-6b27a0893e75",
   "metadata": {},
   "outputs": [
    {
     "data": {
      "text/plain": [
       "'An abstract class is a class, but not one you can create objects from directly. Its purpose is to define how other classes should look like, i.e. what methods and properties they are expected to have.'"
      ]
     },
     "execution_count": 10,
     "metadata": {},
     "output_type": "execute_result"
    }
   ],
   "source": [
    "'''An abstract class is a class, but not one you can create objects from directly. Its purpose is to define how other classes should look like, i.e. what methods and properties they are expected to have.'''"
   ]
  },
  {
   "cell_type": "code",
   "execution_count": 11,
   "id": "8e2691cf-9031-487d-b8b3-aa5b44c344a7",
   "metadata": {},
   "outputs": [],
   "source": [
    "#Solution 4"
   ]
  },
  {
   "cell_type": "code",
   "execution_count": 13,
   "id": "5c2fc920-c5d0-4a87-ab15-2945824fb04a",
   "metadata": {},
   "outputs": [
    {
     "data": {
      "text/plain": [
       "'In Python, abstraction can be achieved by having/using abstract classes and methods in our programs. Understanding Abstract Methods and Classes: An abstract method is a method that is declared, but does not contain implementation.'"
      ]
     },
     "execution_count": 13,
     "metadata": {},
     "output_type": "execute_result"
    }
   ],
   "source": [
    "'''In Python, abstraction can be achieved by having/using abstract classes and methods in our programs. Understanding Abstract Methods and Classes: An abstract method is a method that is declared, but does not contain implementation.'''"
   ]
  },
  {
   "cell_type": "code",
   "execution_count": 14,
   "id": "a082da70-b034-4c26-827f-6d7520326247",
   "metadata": {},
   "outputs": [],
   "source": [
    "#Solutiion 5"
   ]
  },
  {
   "cell_type": "code",
   "execution_count": 15,
   "id": "256034d9-cdee-4606-be4e-ab9b3a37d3c9",
   "metadata": {},
   "outputs": [
    {
     "data": {
      "text/plain": [
       "'Abstract classes cannot be instantiated, but they can be subclassed. When an abstract class is subclassed, the subclass usually provides implementations for all of the abstract methods in its parent class. However, if it does not, then the subclass must also be declared abstract .'"
      ]
     },
     "execution_count": 15,
     "metadata": {},
     "output_type": "execute_result"
    }
   ],
   "source": [
    "'''Abstract classes cannot be instantiated, but they can be subclassed. When an abstract class is subclassed, the subclass usually provides implementations for all of the abstract methods in its parent class. However, if it does not, then the subclass must also be declared abstract .'''"
   ]
  },
  {
   "cell_type": "code",
   "execution_count": null,
   "id": "b1375738-90f4-4462-91e7-91be0d2e311d",
   "metadata": {},
   "outputs": [],
   "source": []
  }
 ],
 "metadata": {
  "kernelspec": {
   "display_name": "Python 3 (ipykernel)",
   "language": "python",
   "name": "python3"
  },
  "language_info": {
   "codemirror_mode": {
    "name": "ipython",
    "version": 3
   },
   "file_extension": ".py",
   "mimetype": "text/x-python",
   "name": "python",
   "nbconvert_exporter": "python",
   "pygments_lexer": "ipython3",
   "version": "3.10.8"
  }
 },
 "nbformat": 4,
 "nbformat_minor": 5
}
